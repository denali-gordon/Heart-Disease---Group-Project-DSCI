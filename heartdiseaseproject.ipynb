{
 "cells": [
  {
   "cell_type": "markdown",
   "id": "0a11e814-f2e2-4d38-9a9e-bf8b3b4dde23",
   "metadata": {},
   "source": [
    "Project goes here yay"
   ]
  },
  {
   "cell_type": "code",
   "execution_count": null,
   "id": "d1702151-3f0d-4915-a243-58c5b6199dd8",
   "metadata": {},
   "outputs": [],
   "source": []
  }
 ],
 "metadata": {
  "kernelspec": {
   "display_name": "R",
   "language": "R",
   "name": "ir"
  },
  "language_info": {
   "codemirror_mode": "r",
   "file_extension": ".r",
   "mimetype": "text/x-r-source",
   "name": "R",
   "pygments_lexer": "r",
   "version": "4.3.1"
  }
 },
 "nbformat": 4,
 "nbformat_minor": 5
}
